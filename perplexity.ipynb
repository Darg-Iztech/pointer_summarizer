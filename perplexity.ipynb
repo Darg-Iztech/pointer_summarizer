{
 "cells": [
  {
   "cell_type": "code",
   "execution_count": 1,
   "metadata": {},
   "outputs": [],
   "source": [
    "import pandas as pd\n",
    "import seaborn as sns\n",
    "import numpy as np\n",
    "import matplotlib.pyplot as plt"
   ]
  },
  {
   "cell_type": "code",
   "execution_count": 2,
   "metadata": {},
   "outputs": [
    {
     "name": "stdout",
     "output_type": "stream",
     "text": [
      "     neg_log_likelihood\n",
      "0             989.34375\n",
      "1             898.31030\n",
      "2             932.76587\n",
      "3             912.93400\n",
      "4             888.04090\n",
      "..                  ...\n",
      "103           898.86700\n",
      "104           850.80286\n",
      "105           982.26874\n",
      "106           963.34010\n",
      "107           758.71870\n",
      "\n",
      "[108 rows x 1 columns]\n"
     ]
    }
   ],
   "source": [
    "movie_quotes_non_quote = pd.read_csv(\"moviequotes_non_quote_perplexity.csv\")\n",
    "print(movie_quotes_non_quote)"
   ]
  },
  {
   "cell_type": "code",
   "execution_count": 3,
   "metadata": {},
   "outputs": [
    {
     "name": "stdout",
     "output_type": "stream",
     "text": [
      "     neg_log_likelihood\n",
      "0            1013.12900\n",
      "1             887.61410\n",
      "2             918.15030\n",
      "3             848.21370\n",
      "4            1008.75320\n",
      "..                  ...\n",
      "105           926.51920\n",
      "106           921.27026\n",
      "107           972.00085\n",
      "108           877.64950\n",
      "109           630.25070\n",
      "\n",
      "[110 rows x 1 columns]\n"
     ]
    }
   ],
   "source": [
    "movie_quotes_quote = pd.read_csv(\"moviequotes_quote_perplexity.csv\")\n",
    "print(movie_quotes_quote)"
   ]
  },
  {
   "cell_type": "code",
   "execution_count": 4,
   "metadata": {},
   "outputs": [
    {
     "name": "stdout",
     "output_type": "stream",
     "text": [
      "      neg_log_likelihood\n",
      "0             1002.63824\n",
      "1              885.91270\n",
      "2             1120.83440\n",
      "3             1030.55700\n",
      "4              897.77580\n",
      "...                  ...\n",
      "1259          1030.62740\n",
      "1260          1002.31683\n",
      "1261          1010.95060\n",
      "1262          1176.22950\n",
      "1263           918.49725\n",
      "\n",
      "[1264 rows x 1 columns]\n"
     ]
    }
   ],
   "source": [
    "T50_quotes_non_quote = pd.read_csv(\"T50_non_quote_perplexity.csv\")\n",
    "print(T50_quotes_non_quote)"
   ]
  },
  {
   "cell_type": "code",
   "execution_count": 5,
   "metadata": {},
   "outputs": [
    {
     "name": "stdout",
     "output_type": "stream",
     "text": [
      "      neg_log_likelihood\n",
      "0              828.28100\n",
      "1              851.57360\n",
      "2              999.06500\n",
      "3              860.09753\n",
      "4              879.61700\n",
      "...                  ...\n",
      "1149           778.68207\n",
      "1150           940.96576\n",
      "1151           772.85016\n",
      "1152          1037.27810\n",
      "1153           505.86096\n",
      "\n",
      "[1154 rows x 1 columns]\n"
     ]
    }
   ],
   "source": [
    "T50_quotes_quote = pd.read_csv(\"T50_quote_perplexity.csv\")\n",
    "print(T50_quotes_quote)"
   ]
  },
  {
   "cell_type": "code",
   "execution_count": 7,
   "metadata": {},
   "outputs": [
    {
     "data": {
      "text/plain": [
       "(4145.0, 5.811845037855773e-05)"
      ]
     },
     "execution_count": 7,
     "metadata": {},
     "output_type": "execute_result"
    }
   ],
   "source": [
    "from scipy.stats import mannwhitneyu\n",
    "w, p = mannwhitneyu(movie_quotes_non_quote['neg_log_likelihood'],movie_quotes_quote['neg_log_likelihood'])\n",
    "w, p"
   ]
  },
  {
   "cell_type": "code",
   "execution_count": 8,
   "metadata": {},
   "outputs": [
    {
     "data": {
      "text/plain": [
       "(519977.5, 1.3966830963370861e-34)"
      ]
     },
     "execution_count": 8,
     "metadata": {},
     "output_type": "execute_result"
    }
   ],
   "source": [
    "from scipy.stats import mannwhitneyu\n",
    "w, p = mannwhitneyu(T50_quotes_non_quote['neg_log_likelihood'],T50_quotes_quote['neg_log_likelihood'])\n",
    "w, p"
   ]
  },
  {
   "cell_type": "code",
   "execution_count": 9,
   "metadata": {},
   "outputs": [
    {
     "data": {
      "text/plain": [
       "(53271.0, 0.002652271403123643)"
      ]
     },
     "execution_count": 9,
     "metadata": {},
     "output_type": "execute_result"
    }
   ],
   "source": [
    "from scipy.stats import mannwhitneyu\n",
    "w, p = mannwhitneyu(movie_quotes_quote['neg_log_likelihood'],T50_quotes_quote['neg_log_likelihood'])\n",
    "w, p"
   ]
  },
  {
   "cell_type": "code",
   "execution_count": 10,
   "metadata": {},
   "outputs": [
    {
     "data": {
      "text/plain": [
       "(55418.0, 0.028426857062824603)"
      ]
     },
     "execution_count": 10,
     "metadata": {},
     "output_type": "execute_result"
    }
   ],
   "source": [
    "from scipy.stats import mannwhitneyu\n",
    "w, p = mannwhitneyu(movie_quotes_non_quote['neg_log_likelihood'],T50_quotes_quote['neg_log_likelihood'])\n",
    "w, p"
   ]
  },
  {
   "cell_type": "code",
   "execution_count": 6,
   "metadata": {},
   "outputs": [],
   "source": [
    "import scipy.stats as stats"
   ]
  },
  {
   "cell_type": "code",
   "execution_count": 7,
   "metadata": {},
   "outputs": [
    {
     "name": "stdout",
     "output_type": "stream",
     "text": [
      "61.59313423492844 1.7558153024053122e-38\n"
     ]
    }
   ],
   "source": [
    "fvalue, pvalue = stats.f_oneway(movie_quotes_quote['neg_log_likelihood'], movie_quotes_non_quote['neg_log_likelihood'], T50_quotes_quote['neg_log_likelihood'],T50_quotes_non_quote['neg_log_likelihood'])\n",
    "print(fvalue, pvalue)"
   ]
  },
  {
   "cell_type": "code",
   "execution_count": 9,
   "metadata": {},
   "outputs": [
    {
     "name": "stdout",
     "output_type": "stream",
     "text": [
      "     neg_log_likelihood          type\n",
      "0            1013.12900  movie_quotes\n",
      "1             887.61410  movie_quotes\n",
      "2             918.15030  movie_quotes\n",
      "3             848.21370  movie_quotes\n",
      "4            1008.75320  movie_quotes\n",
      "..                  ...           ...\n",
      "105           926.51920  movie_quotes\n",
      "106           921.27026  movie_quotes\n",
      "107           972.00085  movie_quotes\n",
      "108           877.64950  movie_quotes\n",
      "109           630.25070  movie_quotes\n",
      "\n",
      "[110 rows x 2 columns]\n",
      "     neg_log_likelihood              type\n",
      "0             989.34375  movie_non_quotes\n",
      "1             898.31030  movie_non_quotes\n",
      "2             932.76587  movie_non_quotes\n",
      "3             912.93400  movie_non_quotes\n",
      "4             888.04090  movie_non_quotes\n",
      "..                  ...               ...\n",
      "103           898.86700  movie_non_quotes\n",
      "104           850.80286  movie_non_quotes\n",
      "105           982.26874  movie_non_quotes\n",
      "106           963.34010  movie_non_quotes\n",
      "107           758.71870  movie_non_quotes\n",
      "\n",
      "[108 rows x 2 columns]\n",
      "      neg_log_likelihood        type\n",
      "0              828.28100  T50_quotes\n",
      "1              851.57360  T50_quotes\n",
      "2              999.06500  T50_quotes\n",
      "3              860.09753  T50_quotes\n",
      "4              879.61700  T50_quotes\n",
      "...                  ...         ...\n",
      "1149           778.68207  T50_quotes\n",
      "1150           940.96576  T50_quotes\n",
      "1151           772.85016  T50_quotes\n",
      "1152          1037.27810  T50_quotes\n",
      "1153           505.86096  T50_quotes\n",
      "\n",
      "[1154 rows x 2 columns]\n",
      "      neg_log_likelihood            type\n",
      "0             1002.63824  T50_non_quotes\n",
      "1              885.91270  T50_non_quotes\n",
      "2             1120.83440  T50_non_quotes\n",
      "3             1030.55700  T50_non_quotes\n",
      "4              897.77580  T50_non_quotes\n",
      "...                  ...             ...\n",
      "1259          1030.62740  T50_non_quotes\n",
      "1260          1002.31683  T50_non_quotes\n",
      "1261          1010.95060  T50_non_quotes\n",
      "1262          1176.22950  T50_non_quotes\n",
      "1263           918.49725  T50_non_quotes\n",
      "\n",
      "[1264 rows x 2 columns]\n"
     ]
    }
   ],
   "source": [
    "anova_input = pd.DataFrame(movie_quotes_quote['neg_log_likelihood'])\n",
    "anova_input['type']  = 'movie_quotes'\n",
    "print(anova_input)\n",
    "b=pd.DataFrame(movie_quotes_non_quote['neg_log_likelihood'])\n",
    "b['type'] = 'movie_non_quotes'\n",
    "print(b)\n",
    "c=pd.DataFrame(T50_quotes_quote['neg_log_likelihood'])\n",
    "c['type'] = 'T50_quotes'\n",
    "print(c)\n",
    "d=pd.DataFrame(T50_quotes_non_quote['neg_log_likelihood'])\n",
    "d['type'] = 'T50_non_quotes'\n",
    "print(d)"
   ]
  },
  {
   "cell_type": "code",
   "execution_count": 16,
   "metadata": {},
   "outputs": [
    {
     "name": "stdout",
     "output_type": "stream",
     "text": [
      "      neg_log_likelihood            type\n",
      "0             1013.12900    movie_quotes\n",
      "1              887.61410    movie_quotes\n",
      "2              918.15030    movie_quotes\n",
      "3              848.21370    movie_quotes\n",
      "4             1008.75320    movie_quotes\n",
      "...                  ...             ...\n",
      "2631          1030.62740  T50_non_quotes\n",
      "2632          1002.31683  T50_non_quotes\n",
      "2633          1010.95060  T50_non_quotes\n",
      "2634          1176.22950  T50_non_quotes\n",
      "2635           918.49725  T50_non_quotes\n",
      "\n",
      "[2636 rows x 2 columns]\n"
     ]
    }
   ],
   "source": [
    "result = anova_input.append([b, c, d])\n",
    "result_2 = result.reset_index(drop=True)\n",
    "print(result_2)"
   ]
  },
  {
   "cell_type": "code",
   "execution_count": 17,
   "metadata": {},
   "outputs": [
    {
     "data": {
      "text/html": [
       "<table class=\"simpletable\">\n",
       "<caption>Multiple Comparison of Means - Tukey HSD, FWER=0.05</caption>\n",
       "<tr>\n",
       "       <th>group1</th>           <th>group2</th>      <th>meandiff</th>  <th>p-adj</th>   <th>lower</th>    <th>upper</th>  <th>reject</th>\n",
       "</tr>\n",
       "<tr>\n",
       "   <td>T50_non_quotes</td>     <td>T50_quotes</td>    <td>-43.9824</td>  <td>0.001</td> <td>-53.0362</td> <td>-34.9287</td>  <td>True</td> \n",
       "</tr>\n",
       "<tr>\n",
       "   <td>T50_non_quotes</td>  <td>movie_non_quotes</td> <td>-31.9131</td> <td>0.0014</td> <td>-54.2062</td>   <td>-9.62</td>   <td>True</td> \n",
       "</tr>\n",
       "<tr>\n",
       "   <td>T50_non_quotes</td>    <td>movie_quotes</td>   <td>-65.3822</td>  <td>0.001</td> <td>-87.4878</td> <td>-43.2767</td>  <td>True</td> \n",
       "</tr>\n",
       "<tr>\n",
       "     <td>T50_quotes</td>    <td>movie_non_quotes</td>  <td>12.0693</td>  <td>0.507</td> <td>-10.3072</td>  <td>34.4459</td>  <td>False</td>\n",
       "</tr>\n",
       "<tr>\n",
       "     <td>T50_quotes</td>      <td>movie_quotes</td>   <td>-21.3998</td> <td>0.0635</td> <td>-43.5896</td>   <td>0.79</td>    <td>False</td>\n",
       "</tr>\n",
       "<tr>\n",
       "  <td>movie_non_quotes</td>   <td>movie_quotes</td>   <td>-33.4691</td> <td>0.0224</td> <td>-63.5922</td>  <td>-3.3461</td>  <td>True</td> \n",
       "</tr>\n",
       "</table>"
      ],
      "text/plain": [
       "<class 'statsmodels.iolib.table.SimpleTable'>"
      ]
     },
     "execution_count": 17,
     "metadata": {},
     "output_type": "execute_result"
    }
   ],
   "source": [
    "import statsmodels.stats.multicomp as mc\n",
    "\n",
    "comp = mc.MultiComparison(result['neg_log_likelihood'], result['type'])\n",
    "post_hoc_res = comp.tukeyhsd()\n",
    "post_hoc_res.summary()"
   ]
  },
  {
   "cell_type": "code",
   "execution_count": null,
   "metadata": {},
   "outputs": [],
   "source": []
  }
 ],
 "metadata": {
  "kernelspec": {
   "display_name": "Python 3",
   "language": "python",
   "name": "python3"
  },
  "language_info": {
   "codemirror_mode": {
    "name": "ipython",
    "version": 3
   },
   "file_extension": ".py",
   "mimetype": "text/x-python",
   "name": "python",
   "nbconvert_exporter": "python",
   "pygments_lexer": "ipython3",
   "version": "3.8.3"
  }
 },
 "nbformat": 4,
 "nbformat_minor": 4
}
